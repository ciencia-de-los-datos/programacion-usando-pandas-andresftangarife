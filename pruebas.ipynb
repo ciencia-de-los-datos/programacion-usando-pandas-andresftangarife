{
 "cells": [
  {
   "cell_type": "code",
   "execution_count": null,
   "metadata": {},
   "outputs": [],
   "source": [
    "import pandas as pd\n",
    "\n",
    "tbl0 = pd.read_csv(\"tbl0.tsv\", sep=\"\\t\")\n",
    "tbl1 = pd.read_csv(\"tbl1.tsv\", sep=\"\\t\")\n",
    "tbl2 = pd.read_csv(\"tbl2.tsv\", sep=\"\\t\")"
   ]
  },
  {
   "cell_type": "code",
   "execution_count": null,
   "metadata": {},
   "outputs": [],
   "source": [
    "tbl0.shape[0]"
   ]
  },
  {
   "cell_type": "code",
   "execution_count": null,
   "metadata": {},
   "outputs": [],
   "source": [
    "tbl0.shape[1]"
   ]
  },
  {
   "cell_type": "code",
   "execution_count": null,
   "metadata": {},
   "outputs": [],
   "source": [
    "tbl0.head(3)"
   ]
  },
  {
   "cell_type": "code",
   "execution_count": null,
   "metadata": {},
   "outputs": [],
   "source": [
    "tbl0[\"_c1\"]"
   ]
  },
  {
   "cell_type": "code",
   "execution_count": null,
   "metadata": {},
   "outputs": [],
   "source": [
    "tbl0[\"_c1\"].value_counts().sort_index()"
   ]
  },
  {
   "cell_type": "code",
   "execution_count": null,
   "metadata": {},
   "outputs": [],
   "source": [
    "tbl0.groupby(\"_c1\").agg({\"_c2\": \"mean\"}).reset_index()"
   ]
  },
  {
   "cell_type": "code",
   "execution_count": null,
   "metadata": {},
   "outputs": [],
   "source": [
    "tbl0.groupby('_c1')['_c2'].mean()"
   ]
  },
  {
   "cell_type": "code",
   "execution_count": null,
   "metadata": {},
   "outputs": [],
   "source": [
    "tbl0.groupby('_c1')['_c2'].max()"
   ]
  },
  {
   "cell_type": "code",
   "execution_count": null,
   "metadata": {},
   "outputs": [],
   "source": [
    "unicos_tbl1 = list(map(lambda x: x.upper(),tbl1[\"_c4\"].unique()))\n",
    "unicos_tbl1.sort()\n",
    "unicos_tbl1"
   ]
  },
  {
   "cell_type": "code",
   "execution_count": null,
   "metadata": {},
   "outputs": [],
   "source": [
    "tbl0.groupby('_c1')['_c2'].sum()"
   ]
  },
  {
   "cell_type": "code",
   "execution_count": null,
   "metadata": {},
   "outputs": [],
   "source": [
    "tbl0[\"suma\"] = tbl0[\"_c0\"] + tbl0[\"_c2\"]"
   ]
  },
  {
   "cell_type": "code",
   "execution_count": null,
   "metadata": {},
   "outputs": [],
   "source": [
    "tbl0[\"year\"] = tbl0[\"_c3\"].apply(lambda x: x[:4])"
   ]
  },
  {
   "cell_type": "code",
   "execution_count": null,
   "metadata": {},
   "outputs": [],
   "source": [
    "tbl0.head(5)"
   ]
  },
  {
   "cell_type": "code",
   "execution_count": null,
   "metadata": {},
   "outputs": [],
   "source": [
    "tbl0_10 = tbl0.groupby('_c1')['_c2'].apply(lambda x: ':'.join(x.astype(str).sort_values())).reset_index()\n",
    "print(tbl0_10)"
   ]
  },
  {
   "cell_type": "code",
   "execution_count": null,
   "metadata": {},
   "outputs": [],
   "source": []
  },
  {
   "cell_type": "code",
   "execution_count": null,
   "metadata": {},
   "outputs": [],
   "source": [
    "tbl1_11 = tbl1.groupby('_c0')['_c4'].apply(lambda x: ','.join(x.astype(str).sort_values())).reset_index()\n",
    "tbl1_11"
   ]
  },
  {
   "cell_type": "code",
   "execution_count": null,
   "metadata": {},
   "outputs": [],
   "source": [
    "\n",
    "\n"
   ]
  },
  {
   "cell_type": "code",
   "execution_count": 95,
   "metadata": {},
   "outputs": [
    {
     "data": {
      "text/html": [
       "<div>\n",
       "<style scoped>\n",
       "    .dataframe tbody tr th:only-of-type {\n",
       "        vertical-align: middle;\n",
       "    }\n",
       "\n",
       "    .dataframe tbody tr th {\n",
       "        vertical-align: top;\n",
       "    }\n",
       "\n",
       "    .dataframe thead th {\n",
       "        text-align: right;\n",
       "    }\n",
       "</style>\n",
       "<table border=\"1\" class=\"dataframe\">\n",
       "  <thead>\n",
       "    <tr style=\"text-align: right;\">\n",
       "      <th></th>\n",
       "      <th>_c0</th>\n",
       "      <th>union</th>\n",
       "    </tr>\n",
       "  </thead>\n",
       "  <tbody>\n",
       "    <tr>\n",
       "      <th>0</th>\n",
       "      <td>0</td>\n",
       "      <td>bbb:0,ddd:9,ggg:8,hhh:2,jjj:3</td>\n",
       "    </tr>\n",
       "    <tr>\n",
       "      <th>1</th>\n",
       "      <td>1</td>\n",
       "      <td>aaa:3,ccc:2,ddd:0,hhh:9</td>\n",
       "    </tr>\n",
       "    <tr>\n",
       "      <th>2</th>\n",
       "      <td>2</td>\n",
       "      <td>ccc:6,ddd:2,ggg:5,jjj:1</td>\n",
       "    </tr>\n",
       "    <tr>\n",
       "      <th>3</th>\n",
       "      <td>3</td>\n",
       "      <td>bbb:1,eee:7,hhh:9,iii:5</td>\n",
       "    </tr>\n",
       "    <tr>\n",
       "      <th>4</th>\n",
       "      <td>4</td>\n",
       "      <td>ddd:5,eee:4,iii:6,jjj:3</td>\n",
       "    </tr>\n",
       "    <tr>\n",
       "      <th>5</th>\n",
       "      <td>5</td>\n",
       "      <td>aaa:7,bbb:2,ccc:4,fff:1,hhh:0</td>\n",
       "    </tr>\n",
       "    <tr>\n",
       "      <th>6</th>\n",
       "      <td>6</td>\n",
       "      <td>aaa:5,ccc:1,ddd:2,fff:8,iii:0,jjj:7</td>\n",
       "    </tr>\n",
       "    <tr>\n",
       "      <th>7</th>\n",
       "      <td>7</td>\n",
       "      <td>ddd:2,fff:3,hhh:1</td>\n",
       "    </tr>\n",
       "    <tr>\n",
       "      <th>8</th>\n",
       "      <td>8</td>\n",
       "      <td>bbb:0,ccc:5,eee:4,fff:7,ggg:6,iii:9</td>\n",
       "    </tr>\n",
       "    <tr>\n",
       "      <th>9</th>\n",
       "      <td>9</td>\n",
       "      <td>bbb:7,eee:3,fff:5,ggg:2,iii:4,jjj:9</td>\n",
       "    </tr>\n",
       "    <tr>\n",
       "      <th>10</th>\n",
       "      <td>10</td>\n",
       "      <td>eee:4,fff:2,hhh:6,iii:0,jjj:1</td>\n",
       "    </tr>\n",
       "    <tr>\n",
       "      <th>11</th>\n",
       "      <td>11</td>\n",
       "      <td>bbb:7,ggg:9,iii:6</td>\n",
       "    </tr>\n",
       "    <tr>\n",
       "      <th>12</th>\n",
       "      <td>12</td>\n",
       "      <td>aaa:3,bbb:9,ccc:6,eee:2,fff:4</td>\n",
       "    </tr>\n",
       "    <tr>\n",
       "      <th>13</th>\n",
       "      <td>13</td>\n",
       "      <td>aaa:8,ddd:5,jjj:1</td>\n",
       "    </tr>\n",
       "    <tr>\n",
       "      <th>14</th>\n",
       "      <td>14</td>\n",
       "      <td>aaa:2,ccc:0,ddd:3,fff:7,jjj:6</td>\n",
       "    </tr>\n",
       "    <tr>\n",
       "      <th>15</th>\n",
       "      <td>15</td>\n",
       "      <td>bbb:9,ccc:0,ddd:3,eee:6</td>\n",
       "    </tr>\n",
       "    <tr>\n",
       "      <th>16</th>\n",
       "      <td>16</td>\n",
       "      <td>bbb:6,ddd:2,fff:4,ggg:9,hhh:5,iii:3</td>\n",
       "    </tr>\n",
       "    <tr>\n",
       "      <th>17</th>\n",
       "      <td>17</td>\n",
       "      <td>ccc:9,hhh:4,jjj:5</td>\n",
       "    </tr>\n",
       "    <tr>\n",
       "      <th>18</th>\n",
       "      <td>18</td>\n",
       "      <td>ccc:1,fff:9,iii:6</td>\n",
       "    </tr>\n",
       "    <tr>\n",
       "      <th>19</th>\n",
       "      <td>19</td>\n",
       "      <td>aaa:3,bbb:9,fff:1</td>\n",
       "    </tr>\n",
       "    <tr>\n",
       "      <th>20</th>\n",
       "      <td>20</td>\n",
       "      <td>aaa:4,ddd:9,iii:2</td>\n",
       "    </tr>\n",
       "    <tr>\n",
       "      <th>21</th>\n",
       "      <td>21</td>\n",
       "      <td>ccc:5,fff:8,iii:7</td>\n",
       "    </tr>\n",
       "    <tr>\n",
       "      <th>22</th>\n",
       "      <td>22</td>\n",
       "      <td>ddd:7,eee:3,jjj:2</td>\n",
       "    </tr>\n",
       "    <tr>\n",
       "      <th>23</th>\n",
       "      <td>23</td>\n",
       "      <td>bbb:3,ccc:7,ddd:9,ggg:0,jjj:1</td>\n",
       "    </tr>\n",
       "    <tr>\n",
       "      <th>24</th>\n",
       "      <td>24</td>\n",
       "      <td>aaa:1,ccc:0,ggg:8,hhh:9,iii:7,jjj:6</td>\n",
       "    </tr>\n",
       "    <tr>\n",
       "      <th>25</th>\n",
       "      <td>25</td>\n",
       "      <td>bbb:7,ccc:1,ddd:0,eee:6,fff:3,iii:4</td>\n",
       "    </tr>\n",
       "    <tr>\n",
       "      <th>26</th>\n",
       "      <td>26</td>\n",
       "      <td>ccc:4,ddd:5,fff:0</td>\n",
       "    </tr>\n",
       "    <tr>\n",
       "      <th>27</th>\n",
       "      <td>27</td>\n",
       "      <td>ccc:0,ddd:9,ggg:6,hhh:3,jjj:7</td>\n",
       "    </tr>\n",
       "    <tr>\n",
       "      <th>28</th>\n",
       "      <td>28</td>\n",
       "      <td>ccc:3,eee:5,hhh:6,iii:7,jjj:0</td>\n",
       "    </tr>\n",
       "    <tr>\n",
       "      <th>29</th>\n",
       "      <td>29</td>\n",
       "      <td>aaa:2,ccc:7,ddd:6,eee:1,fff:4,ggg:0</td>\n",
       "    </tr>\n",
       "    <tr>\n",
       "      <th>30</th>\n",
       "      <td>30</td>\n",
       "      <td>aaa:9,bbb:3,ccc:6,ddd:0,eee:5</td>\n",
       "    </tr>\n",
       "    <tr>\n",
       "      <th>31</th>\n",
       "      <td>31</td>\n",
       "      <td>aaa:6,bbb:7,ddd:5,fff:9,hhh:1,iii:4</td>\n",
       "    </tr>\n",
       "    <tr>\n",
       "      <th>32</th>\n",
       "      <td>32</td>\n",
       "      <td>ccc:1,eee:5,fff:3,ggg:2</td>\n",
       "    </tr>\n",
       "    <tr>\n",
       "      <th>33</th>\n",
       "      <td>33</td>\n",
       "      <td>ccc:1,ddd:0,ggg:3,hhh:5,iii:7,jjj:8</td>\n",
       "    </tr>\n",
       "    <tr>\n",
       "      <th>34</th>\n",
       "      <td>34</td>\n",
       "      <td>bbb:8,ccc:3,ddd:7,hhh:6,jjj:0</td>\n",
       "    </tr>\n",
       "    <tr>\n",
       "      <th>35</th>\n",
       "      <td>35</td>\n",
       "      <td>aaa:0,ddd:3,fff:5</td>\n",
       "    </tr>\n",
       "    <tr>\n",
       "      <th>36</th>\n",
       "      <td>36</td>\n",
       "      <td>bbb:4,ccc:0,ddd:5,iii:7,jjj:2</td>\n",
       "    </tr>\n",
       "    <tr>\n",
       "      <th>37</th>\n",
       "      <td>37</td>\n",
       "      <td>eee:0,fff:2,hhh:6</td>\n",
       "    </tr>\n",
       "    <tr>\n",
       "      <th>38</th>\n",
       "      <td>38</td>\n",
       "      <td>eee:0,fff:9,iii:2</td>\n",
       "    </tr>\n",
       "    <tr>\n",
       "      <th>39</th>\n",
       "      <td>39</td>\n",
       "      <td>ggg:3,hhh:8,jjj:5</td>\n",
       "    </tr>\n",
       "  </tbody>\n",
       "</table>\n",
       "</div>"
      ],
      "text/plain": [
       "    _c0                                union\n",
       "0     0        bbb:0,ddd:9,ggg:8,hhh:2,jjj:3\n",
       "1     1              aaa:3,ccc:2,ddd:0,hhh:9\n",
       "2     2              ccc:6,ddd:2,ggg:5,jjj:1\n",
       "3     3              bbb:1,eee:7,hhh:9,iii:5\n",
       "4     4              ddd:5,eee:4,iii:6,jjj:3\n",
       "5     5        aaa:7,bbb:2,ccc:4,fff:1,hhh:0\n",
       "6     6  aaa:5,ccc:1,ddd:2,fff:8,iii:0,jjj:7\n",
       "7     7                    ddd:2,fff:3,hhh:1\n",
       "8     8  bbb:0,ccc:5,eee:4,fff:7,ggg:6,iii:9\n",
       "9     9  bbb:7,eee:3,fff:5,ggg:2,iii:4,jjj:9\n",
       "10   10        eee:4,fff:2,hhh:6,iii:0,jjj:1\n",
       "11   11                    bbb:7,ggg:9,iii:6\n",
       "12   12        aaa:3,bbb:9,ccc:6,eee:2,fff:4\n",
       "13   13                    aaa:8,ddd:5,jjj:1\n",
       "14   14        aaa:2,ccc:0,ddd:3,fff:7,jjj:6\n",
       "15   15              bbb:9,ccc:0,ddd:3,eee:6\n",
       "16   16  bbb:6,ddd:2,fff:4,ggg:9,hhh:5,iii:3\n",
       "17   17                    ccc:9,hhh:4,jjj:5\n",
       "18   18                    ccc:1,fff:9,iii:6\n",
       "19   19                    aaa:3,bbb:9,fff:1\n",
       "20   20                    aaa:4,ddd:9,iii:2\n",
       "21   21                    ccc:5,fff:8,iii:7\n",
       "22   22                    ddd:7,eee:3,jjj:2\n",
       "23   23        bbb:3,ccc:7,ddd:9,ggg:0,jjj:1\n",
       "24   24  aaa:1,ccc:0,ggg:8,hhh:9,iii:7,jjj:6\n",
       "25   25  bbb:7,ccc:1,ddd:0,eee:6,fff:3,iii:4\n",
       "26   26                    ccc:4,ddd:5,fff:0\n",
       "27   27        ccc:0,ddd:9,ggg:6,hhh:3,jjj:7\n",
       "28   28        ccc:3,eee:5,hhh:6,iii:7,jjj:0\n",
       "29   29  aaa:2,ccc:7,ddd:6,eee:1,fff:4,ggg:0\n",
       "30   30        aaa:9,bbb:3,ccc:6,ddd:0,eee:5\n",
       "31   31  aaa:6,bbb:7,ddd:5,fff:9,hhh:1,iii:4\n",
       "32   32              ccc:1,eee:5,fff:3,ggg:2\n",
       "33   33  ccc:1,ddd:0,ggg:3,hhh:5,iii:7,jjj:8\n",
       "34   34        bbb:8,ccc:3,ddd:7,hhh:6,jjj:0\n",
       "35   35                    aaa:0,ddd:3,fff:5\n",
       "36   36        bbb:4,ccc:0,ddd:5,iii:7,jjj:2\n",
       "37   37                    eee:0,fff:2,hhh:6\n",
       "38   38                    eee:0,fff:9,iii:2\n",
       "39   39                    ggg:3,hhh:8,jjj:5"
      ]
     },
     "execution_count": 95,
     "metadata": {},
     "output_type": "execute_result"
    }
   ],
   "source": [
    "tbl2[\"_c5\"] = tbl2[\"_c5a\"] + \":\" + tbl2[\"_c5b\"].astype(str)\n",
    "tbl2_12 = tbl2.groupby('_c0')['union'].apply(lambda x: ','.join(x.astype(str).sort_values())).reset_index()\n",
    "tbl2_12"
   ]
  },
  {
   "cell_type": "code",
   "execution_count": 93,
   "metadata": {},
   "outputs": [
    {
     "data": {
      "text/html": [
       "<div>\n",
       "<style scoped>\n",
       "    .dataframe tbody tr th:only-of-type {\n",
       "        vertical-align: middle;\n",
       "    }\n",
       "\n",
       "    .dataframe tbody tr th {\n",
       "        vertical-align: top;\n",
       "    }\n",
       "\n",
       "    .dataframe thead th {\n",
       "        text-align: right;\n",
       "    }\n",
       "</style>\n",
       "<table border=\"1\" class=\"dataframe\">\n",
       "  <thead>\n",
       "    <tr style=\"text-align: right;\">\n",
       "      <th></th>\n",
       "      <th>_c0</th>\n",
       "      <th>_c5a</th>\n",
       "      <th>_c5b</th>\n",
       "    </tr>\n",
       "  </thead>\n",
       "  <tbody>\n",
       "    <tr>\n",
       "      <th>0</th>\n",
       "      <td>0</td>\n",
       "      <td>jjj</td>\n",
       "      <td>3</td>\n",
       "    </tr>\n",
       "    <tr>\n",
       "      <th>1</th>\n",
       "      <td>0</td>\n",
       "      <td>bbb</td>\n",
       "      <td>0</td>\n",
       "    </tr>\n",
       "    <tr>\n",
       "      <th>2</th>\n",
       "      <td>0</td>\n",
       "      <td>ddd</td>\n",
       "      <td>9</td>\n",
       "    </tr>\n",
       "    <tr>\n",
       "      <th>3</th>\n",
       "      <td>0</td>\n",
       "      <td>ggg</td>\n",
       "      <td>8</td>\n",
       "    </tr>\n",
       "    <tr>\n",
       "      <th>4</th>\n",
       "      <td>0</td>\n",
       "      <td>hhh</td>\n",
       "      <td>2</td>\n",
       "    </tr>\n",
       "  </tbody>\n",
       "</table>\n",
       "</div>"
      ],
      "text/plain": [
       "   _c0 _c5a  _c5b\n",
       "0    0  jjj     3\n",
       "1    0  bbb     0\n",
       "2    0  ddd     9\n",
       "3    0  ggg     8\n",
       "4    0  hhh     2"
      ]
     },
     "execution_count": 93,
     "metadata": {},
     "output_type": "execute_result"
    }
   ],
   "source": [
    "tbl2.head()"
   ]
  },
  {
   "cell_type": "code",
   "execution_count": 98,
   "metadata": {},
   "outputs": [
    {
     "data": {
      "text/plain": [
       "_c1\n",
       "A    146\n",
       "B    134\n",
       "C     81\n",
       "D    112\n",
       "E    275\n",
       "Name: _c5b, dtype: int64"
      ]
     },
     "execution_count": 98,
     "metadata": {},
     "output_type": "execute_result"
    }
   ],
   "source": [
    "tbl0_tbl2 = tbl0.merge(tbl2, on=\"_c0\", how=\"inner\")\n",
    "tbl0_tbl2.groupby(\"_c1\")[\"_c5b\"].sum()"
   ]
  }
 ],
 "metadata": {
  "kernelspec": {
   "display_name": "Python 3",
   "language": "python",
   "name": "python3"
  },
  "language_info": {
   "codemirror_mode": {
    "name": "ipython",
    "version": 3
   },
   "file_extension": ".py",
   "mimetype": "text/x-python",
   "name": "python",
   "nbconvert_exporter": "python",
   "pygments_lexer": "ipython3",
   "version": "3.11.2"
  }
 },
 "nbformat": 4,
 "nbformat_minor": 2
}
